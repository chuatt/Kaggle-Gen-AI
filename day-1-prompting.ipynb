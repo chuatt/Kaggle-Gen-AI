{
 "cells": [
  {
   "cell_type": "markdown",
   "id": "45da0d97",
   "metadata": {
    "id": "jkxRSYjzA1oX",
    "papermill": {
     "duration": 0.013915,
     "end_time": "2024-11-11T19:33:56.962609",
     "exception": false,
     "start_time": "2024-11-11T19:33:56.948694",
     "status": "completed"
    },
    "tags": []
   },
   "source": [
    "##### Copyright 2024 Google LLC."
   ]
  },
  {
   "cell_type": "code",
   "execution_count": 1,
   "id": "755d8784",
   "metadata": {
    "cellView": "form",
    "execution": {
     "iopub.execute_input": "2024-11-11T19:33:56.991276Z",
     "iopub.status.busy": "2024-11-11T19:33:56.990866Z",
     "iopub.status.idle": "2024-11-11T19:33:56.997153Z",
     "shell.execute_reply": "2024-11-11T19:33:56.995908Z"
    },
    "id": "5u5OZ2ShA3BA",
    "jupyter": {
     "source_hidden": true
    },
    "papermill": {
     "duration": 0.023586,
     "end_time": "2024-11-11T19:33:56.999491",
     "exception": false,
     "start_time": "2024-11-11T19:33:56.975905",
     "status": "completed"
    },
    "tags": []
   },
   "outputs": [],
   "source": [
    "# @title Licensed under the Apache License, Version 2.0 (the \"License\");\n",
    "# you may not use this file except in compliance with the License.\n",
    "# You may obtain a copy of the License at\n",
    "#\n",
    "# https://www.apache.org/licenses/LICENSE-2.0\n",
    "#\n",
    "# Unless required by applicable law or agreed to in writing, software\n",
    "# distributed under the License is distributed on an \"AS IS\" BASIS,\n",
    "# WITHOUT WARRANTIES OR CONDITIONS OF ANY KIND, either express or implied.\n",
    "# See the License for the specific language governing permissions and\n",
    "# limitations under the License."
   ]
  },
  {
   "cell_type": "markdown",
   "id": "192799b5",
   "metadata": {
    "id": "csNPnkuCobmG",
    "papermill": {
     "duration": 0.012506,
     "end_time": "2024-11-11T19:33:57.025656",
     "exception": false,
     "start_time": "2024-11-11T19:33:57.013150",
     "status": "completed"
    },
    "tags": []
   },
   "source": [
    "# Day 1 - Prompting\n",
    "\n",
    "Welcome to the Kaggle 5-day Generative AI course!\n",
    "\n",
    "This notebook will show you how to get started with the Gemini API and walk you through some of the example prompts and techniques that you can also read about in the Prompting whitepaper. You don't need to read the whitepaper to use this notebook, but the papers will give you some theoretical context and background to complement this interactive notebook.\n",
    "\n",
    "\n",
    "## Before you begin\n",
    "\n",
    "In this notebook, you'll start exploring prompts and prompt parameters using the Python SDK and AI Studio. For some inspiration, you might enjoy exploring some apps that have been built using the Gemini family of models. Here are a few that we like, and we think you will too.\n",
    "\n",
    "* [TextFX](https://textfx.withgoogle.com/) is a suite of AI-powered tools for rappers, made in collaboration with Lupe Fiasco,\n",
    "* [SQL Talk](https://sql-talk-r5gdynozbq-uc.a.run.app/) shows how you can talk directly to a database using the Gemini API,\n",
    "* [NotebookLM](https://notebooklm.google/) uses Gemini models to build your own personal AI research assistant.\n",
    "\n",
    "\n",
    "### A note on the Gemini API and Vertex AI\n",
    "\n",
    "In the whitepapers, most of the example code uses the Enterprise [Vertex AI platform](https://cloud.google.com/vertex-ai). In contrast, this notebook, along with the others in this series, will use the [Gemini Developer API](https://ai.google.dev/gemini-api/) and [AI Studio](https://aistudio.google.com/).\n",
    "\n",
    "Both APIs provide access to the Gemini family of models, and the code to interact with the models is very similar. Vertex provides a world-class platform for enterprises, governments and advanced users that need powerful features like data governance, ML ops and deep Google Cloud integration.\n",
    "\n",
    "AI Studio is free to use and only requires a compatible Google account to log in and get started. It is deeply integrated with the Gemini API, which comes with a generous [free tier](https://ai.google.dev/pricing) that you can use to run the code in these exercises.\n",
    "\n",
    "If you are already set up with Google Cloud, you can check out the [Enterprise Gemini API](https://cloud.google.com/vertex-ai/generative-ai/docs/model-reference/inference) through Vertex AI, and run the samples directly from the supplied whitepapers."
   ]
  },
  {
   "attachments": {},
   "cell_type": "markdown",
   "id": "678c54d5",
   "metadata": {
    "id": "f00ea7c99e44",
    "papermill": {
     "duration": 0.012367,
     "end_time": "2024-11-11T19:33:57.050759",
     "exception": false,
     "start_time": "2024-11-11T19:33:57.038392",
     "status": "completed"
    },
    "tags": []
   },
   "source": [
    "## Get started with Kaggle notebooks\n",
    "\n",
    "If this is your first time using a Kaggle notebook, welcome! You can read about how to use Kaggle notebooks [in the docs](https://www.kaggle.com/docs/notebooks).\n",
    "\n",
    "First, you will need to phone verify your account at kaggle.com/settings.\n",
    "\n",
    "![](https://storage.googleapis.com/kaggle-media/Images/5dgai_0.png)"
   ]
  },
  {
   "cell_type": "markdown",
   "id": "af5733e0",
   "metadata": {
    "papermill": {
     "duration": 0.012514,
     "end_time": "2024-11-11T19:33:57.075974",
     "exception": false,
     "start_time": "2024-11-11T19:33:57.063460",
     "status": "completed"
    },
    "tags": []
   },
   "source": [
    "To run this notebook, as well as the others in this course, you will need to make a copy, or fork, the notebook. Look for the `Copy and Edit` button in the top-right, and **click it** to make an editable, private copy of the notebook. It should look like this one:\n",
    "\n",
    "![Copy and Edit button](https://storage.googleapis.com/kaggle-media/Images/5gdai_sc_1.png)\n",
    "\n",
    "Your copy will now have a ▶️ **Run** button next to each code cell that you can press to execute that cell. These notebooks are expected to be run in order from top-to-bottom, but you are encouraged to add new cells, run your own code and explore. If you get stuck, you can try the `Factory reset` option in the `Run` menu, or head back to the original notebook and make a fresh copy.\n",
    "\n",
    "![Run cell button](https://storage.googleapis.com/kaggle-media/Images/5gdai_sc_2.png)\n",
    "\n",
    "### Problems?\n",
    "\n",
    "If you have any problems, head over to the [Kaggle Discord](https://discord.com/invite/kaggle), find the [`#5dgai-q-and-a` channel](https://discord.com/channels/1101210829807956100/1303438695143178251) and ask for help."
   ]
  },
  {
   "cell_type": "markdown",
   "id": "d0fc92ba",
   "metadata": {
    "id": "ExkOXcPxtTb5",
    "papermill": {
     "duration": 0.012631,
     "end_time": "2024-11-11T19:33:57.101234",
     "exception": false,
     "start_time": "2024-11-11T19:33:57.088603",
     "status": "completed"
    },
    "tags": []
   },
   "source": [
    "## Get started with the Gemini API\n",
    "\n",
    "All of the exercises in this notebook will use the [Gemini API](https://ai.google.dev/gemini-api/) by way of the [Python SDK](https://pypi.org/project/google-generativeai/). Each of these prompts can be accessed directly in [Google AI Studio](https://aistudio.google.com/) too, so if you would rather use a web interface and skip the code for this activity, look for the <img src=\"https://ai.google.dev/site-assets/images/marketing/home/icon-ais.png\" style=\"height: 24px\" height=24/> AI Studio link on each prompt."
   ]
  },
  {
   "cell_type": "markdown",
   "id": "ff9837b1",
   "metadata": {
    "papermill": {
     "duration": 0.012838,
     "end_time": "2024-11-11T19:33:57.126874",
     "exception": false,
     "start_time": "2024-11-11T19:33:57.114036",
     "status": "completed"
    },
    "tags": []
   },
   "source": [
    "Next, you will need to add your API key to your Kaggle Notebook as a Kaggle User Secret.\n",
    "\n",
    "![](https://storage.googleapis.com/kaggle-media/Images/5dgai_1.png)\n",
    "![](https://storage.googleapis.com/kaggle-media/Images/5dgai_2.png)\n",
    "![](https://storage.googleapis.com/kaggle-media/Images/5dgai_3.png)\n",
    "![](https://storage.googleapis.com/kaggle-media/Images/5dgai_4.png)"
   ]
  },
  {
   "cell_type": "markdown",
   "id": "985522af",
   "metadata": {
    "id": "UAjUV3BsvFXQ",
    "papermill": {
     "duration": 0.012438,
     "end_time": "2024-11-11T19:33:57.152121",
     "exception": false,
     "start_time": "2024-11-11T19:33:57.139683",
     "status": "completed"
    },
    "tags": []
   },
   "source": [
    "### Install the SDK"
   ]
  },
  {
   "cell_type": "code",
   "execution_count": 2,
   "id": "e63213d9",
   "metadata": {
    "execution": {
     "iopub.execute_input": "2024-11-11T19:33:57.180245Z",
     "iopub.status.busy": "2024-11-11T19:33:57.179796Z",
     "iopub.status.idle": "2024-11-11T19:34:26.245844Z",
     "shell.execute_reply": "2024-11-11T19:34:26.244217Z"
    },
    "id": "NzwzJFU9LqkJ",
    "papermill": {
     "duration": 29.084002,
     "end_time": "2024-11-11T19:34:26.249450",
     "exception": false,
     "start_time": "2024-11-11T19:33:57.165448",
     "status": "completed"
    },
    "tags": []
   },
   "outputs": [
    {
     "name": "stdout",
     "output_type": "stream",
     "text": [
      "Note: you may need to restart the kernel to use updated packages.\n"
     ]
    }
   ],
   "source": [
    "%pip install -U -q \"google-generativeai>=0.8.3\""
   ]
  },
  {
   "cell_type": "code",
   "execution_count": 3,
   "id": "f137cf30",
   "metadata": {
    "execution": {
     "iopub.execute_input": "2024-11-11T19:34:26.278579Z",
     "iopub.status.busy": "2024-11-11T19:34:26.278142Z",
     "iopub.status.idle": "2024-11-11T19:34:27.428179Z",
     "shell.execute_reply": "2024-11-11T19:34:27.426904Z"
    },
    "id": "5DwxYIRavMST",
    "papermill": {
     "duration": 1.167669,
     "end_time": "2024-11-11T19:34:27.430877",
     "exception": false,
     "start_time": "2024-11-11T19:34:26.263208",
     "status": "completed"
    },
    "tags": []
   },
   "outputs": [],
   "source": [
    "import google.generativeai as genai\n",
    "from IPython.display import HTML, Markdown, display"
   ]
  },
  {
   "cell_type": "markdown",
   "id": "e9bb777c",
   "metadata": {
    "id": "DNEt2BCOvOJ1",
    "papermill": {
     "duration": 0.013445,
     "end_time": "2024-11-11T19:34:27.457412",
     "exception": false,
     "start_time": "2024-11-11T19:34:27.443967",
     "status": "completed"
    },
    "tags": []
   },
   "source": [
    "### Set up your API key\n",
    "\n",
    "To run the following cell, your API key must be stored it in a [Kaggle secret](https://www.kaggle.com/discussions/product-feedback/114053) named `GOOGLE_API_KEY`.\n",
    "\n",
    "If you don't already have an API key, you can grab one from [AI Studio](https://aistudio.google.com/app/apikey). You can find [detailed instructions in the docs](https://ai.google.dev/gemini-api/docs/api-key).\n",
    "\n",
    "To make the key available through Kaggle secrets, choose `Secrets` from the `Add-ons` menu and follow the instructions to add your key or enable it for this notebook."
   ]
  },
  {
   "cell_type": "code",
   "execution_count": 4,
   "id": "fabe6e4a",
   "metadata": {
    "execution": {
     "iopub.execute_input": "2024-11-11T19:34:27.485534Z",
     "iopub.status.busy": "2024-11-11T19:34:27.484654Z",
     "iopub.status.idle": "2024-11-11T19:34:27.681391Z",
     "shell.execute_reply": "2024-11-11T19:34:27.680316Z"
    },
    "id": "SHl0bkPCvayd",
    "papermill": {
     "duration": 0.214176,
     "end_time": "2024-11-11T19:34:27.684537",
     "exception": false,
     "start_time": "2024-11-11T19:34:27.470361",
     "status": "completed"
    },
    "tags": []
   },
   "outputs": [],
   "source": [
    "from kaggle_secrets import UserSecretsClient\n",
    "\n",
    "GOOGLE_API_KEY = UserSecretsClient().get_secret(\"GOOGLE_API_KEY\")\n",
    "genai.configure(api_key=GOOGLE_API_KEY)"
   ]
  },
  {
   "attachments": {},
   "cell_type": "markdown",
   "id": "16c102d5",
   "metadata": {
    "id": "4e720472fd86",
    "papermill": {
     "duration": 0.012814,
     "end_time": "2024-11-11T19:34:27.710760",
     "exception": false,
     "start_time": "2024-11-11T19:34:27.697946",
     "status": "completed"
    },
    "tags": []
   },
   "source": [
    "If you received an error response along the lines of `No user secrets exist for kernel id ...`, then you need to add your API key via `Add-ons`, `Secrets` **and** enable it.\n",
    "\n",
    "![Screenshot of the checkbox to enable GOOGLE_API_KEY secret](https://storage.googleapis.com/kaggle-media/Images/5gdai_sc_3.png)"
   ]
  },
  {
   "cell_type": "markdown",
   "id": "f428b907",
   "metadata": {
    "id": "H_YXCYIKvyZJ",
    "papermill": {
     "duration": 0.012817,
     "end_time": "2024-11-11T19:34:27.737769",
     "exception": false,
     "start_time": "2024-11-11T19:34:27.724952",
     "status": "completed"
    },
    "tags": []
   },
   "source": [
    "### Run your first prompt\n",
    "\n",
    "In this step, you will test that your API key is set up correctly by making a request. The `gemini-1.5-flash` model has been selected here."
   ]
  },
  {
   "cell_type": "code",
   "execution_count": 5,
   "id": "2a4bc893",
   "metadata": {
    "execution": {
     "iopub.execute_input": "2024-11-11T19:34:27.765967Z",
     "iopub.status.busy": "2024-11-11T19:34:27.765368Z",
     "iopub.status.idle": "2024-11-11T19:34:29.623948Z",
     "shell.execute_reply": "2024-11-11T19:34:29.622630Z"
    },
    "id": "BV1o0PmcvyJF",
    "papermill": {
     "duration": 1.875498,
     "end_time": "2024-11-11T19:34:29.626258",
     "exception": false,
     "start_time": "2024-11-11T19:34:27.750760",
     "status": "completed"
    },
    "tags": []
   },
   "outputs": [
    {
     "name": "stdout",
     "output_type": "stream",
     "text": [
      "Imagine you have a super smart friend who can learn really fast. This friend is called AI, or Artificial Intelligence. \n",
      "\n",
      "AI is like a computer that can think and learn just like you! It can do all sorts of cool things:\n",
      "\n",
      "* **Play games with you**: AI can play chess, video games, and even learn how to beat you at your favorite game!\n",
      "* **Answer your questions**: Ask AI about anything, and it might be able to give you a helpful answer.\n",
      "* **Help you with your homework**: AI can help you find information, translate languages, and even write stories.\n",
      "* **Make your life easier**: AI can control your lights, music, and even your car with just your voice.\n",
      "\n",
      "But AI is still learning, just like you. It needs lots of data and information to get better. Think of it like teaching a puppy new tricks - it takes time and practice!\n",
      "\n",
      "So, AI is a powerful tool that can help us do amazing things. It's still being developed, but it's already changing the world in exciting ways! \n",
      "\n"
     ]
    }
   ],
   "source": [
    "flash = genai.GenerativeModel('gemini-1.5-flash')\n",
    "response = flash.generate_content(\"Explain AI to me like I'm a kid.\")\n",
    "print(response.text)"
   ]
  },
  {
   "cell_type": "markdown",
   "id": "06cd94a6",
   "metadata": {
    "id": "f60ed9d8ae41",
    "papermill": {
     "duration": 0.012712,
     "end_time": "2024-11-11T19:34:29.652003",
     "exception": false,
     "start_time": "2024-11-11T19:34:29.639291",
     "status": "completed"
    },
    "tags": []
   },
   "source": [
    "The response often comes back in markdown format, which you can render directly in this notebook."
   ]
  },
  {
   "cell_type": "code",
   "execution_count": 6,
   "id": "87399b70",
   "metadata": {
    "execution": {
     "iopub.execute_input": "2024-11-11T19:34:29.680266Z",
     "iopub.status.busy": "2024-11-11T19:34:29.679800Z",
     "iopub.status.idle": "2024-11-11T19:34:29.688900Z",
     "shell.execute_reply": "2024-11-11T19:34:29.687760Z"
    },
    "id": "c933e5e460a5",
    "papermill": {
     "duration": 0.026217,
     "end_time": "2024-11-11T19:34:29.691345",
     "exception": false,
     "start_time": "2024-11-11T19:34:29.665128",
     "status": "completed"
    },
    "tags": []
   },
   "outputs": [
    {
     "data": {
      "text/markdown": [
       "Imagine you have a super smart friend who can learn really fast. This friend is called AI, or Artificial Intelligence. \n",
       "\n",
       "AI is like a computer that can think and learn just like you! It can do all sorts of cool things:\n",
       "\n",
       "* **Play games with you**: AI can play chess, video games, and even learn how to beat you at your favorite game!\n",
       "* **Answer your questions**: Ask AI about anything, and it might be able to give you a helpful answer.\n",
       "* **Help you with your homework**: AI can help you find information, translate languages, and even write stories.\n",
       "* **Make your life easier**: AI can control your lights, music, and even your car with just your voice.\n",
       "\n",
       "But AI is still learning, just like you. It needs lots of data and information to get better. Think of it like teaching a puppy new tricks - it takes time and practice!\n",
       "\n",
       "So, AI is a powerful tool that can help us do amazing things. It's still being developed, but it's already changing the world in exciting ways! \n"
      ],
      "text/plain": [
       "<IPython.core.display.Markdown object>"
      ]
     },
     "execution_count": 6,
     "metadata": {},
     "output_type": "execute_result"
    }
   ],
   "source": [
    "Markdown(response.text)"
   ]
  },
  {
   "cell_type": "markdown",
   "id": "5acc324f",
   "metadata": {
    "id": "byx0pT9ZMW2Q",
    "papermill": {
     "duration": 0.012917,
     "end_time": "2024-11-11T19:34:29.717634",
     "exception": false,
     "start_time": "2024-11-11T19:34:29.704717",
     "status": "completed"
    },
    "tags": []
   },
   "source": [
    "### Start a chat\n",
    "\n",
    "The previous example uses a single-turn, text-in/text-out structure, but you can also set up a multi-turn chat structure too."
   ]
  },
  {
   "cell_type": "code",
   "execution_count": 7,
   "id": "276f2de6",
   "metadata": {
    "execution": {
     "iopub.execute_input": "2024-11-11T19:34:29.747103Z",
     "iopub.status.busy": "2024-11-11T19:34:29.746580Z",
     "iopub.status.idle": "2024-11-11T19:34:30.531968Z",
     "shell.execute_reply": "2024-11-11T19:34:30.530996Z"
    },
    "id": "lV_S5ZL5MidD",
    "papermill": {
     "duration": 0.802691,
     "end_time": "2024-11-11T19:34:30.534255",
     "exception": false,
     "start_time": "2024-11-11T19:34:29.731564",
     "status": "completed"
    },
    "tags": []
   },
   "outputs": [
    {
     "name": "stdout",
     "output_type": "stream",
     "text": [
      "Hello Zlork! It's nice to meet you. What can I do for you today? 😊 \n",
      "\n"
     ]
    }
   ],
   "source": [
    "chat = flash.start_chat(history=[])\n",
    "response = chat.send_message('Hello! My name is Zlork.')\n",
    "print(response.text)"
   ]
  },
  {
   "cell_type": "code",
   "execution_count": 8,
   "id": "a1cd3559",
   "metadata": {
    "execution": {
     "iopub.execute_input": "2024-11-11T19:34:30.562929Z",
     "iopub.status.busy": "2024-11-11T19:34:30.562512Z",
     "iopub.status.idle": "2024-11-11T19:34:31.807655Z",
     "shell.execute_reply": "2024-11-11T19:34:31.806219Z"
    },
    "id": "7b0372c3c64a",
    "papermill": {
     "duration": 1.262448,
     "end_time": "2024-11-11T19:34:31.810107",
     "exception": false,
     "start_time": "2024-11-11T19:34:30.547659",
     "status": "completed"
    },
    "tags": []
   },
   "outputs": [
    {
     "name": "stdout",
     "output_type": "stream",
     "text": [
      "Did you know that some dinosaurs were covered in feathers? 🤯  \n",
      "\n",
      "It might sound surprising, but many dinosaurs, especially those closely related to birds, sported feathers! We know this because scientists have discovered fossilized remains with clear imprints of feathers. \n",
      "\n",
      "These feathers weren't just for show either. They likely helped with insulation, attracting mates, and even gliding!  \n",
      "\n",
      "So next time you think of a dinosaur, picture a feathered, perhaps even colorful, creature instead of just a scaly beast.  It's a whole new world of dinosaur fun! 🦖 \n",
      "\n"
     ]
    }
   ],
   "source": [
    "response = chat.send_message('Can you tell something interesting about dinosaurs?')\n",
    "print(response.text)"
   ]
  },
  {
   "cell_type": "code",
   "execution_count": 9,
   "id": "bfb7568f",
   "metadata": {
    "execution": {
     "iopub.execute_input": "2024-11-11T19:34:31.839394Z",
     "iopub.status.busy": "2024-11-11T19:34:31.838967Z",
     "iopub.status.idle": "2024-11-11T19:34:32.655344Z",
     "shell.execute_reply": "2024-11-11T19:34:32.653741Z"
    },
    "id": "d3f9591392a7",
    "papermill": {
     "duration": 0.834478,
     "end_time": "2024-11-11T19:34:32.658124",
     "exception": false,
     "start_time": "2024-11-11T19:34:31.823646",
     "status": "completed"
    },
    "tags": []
   },
   "outputs": [
    {
     "name": "stdout",
     "output_type": "stream",
     "text": [
      "Of course! You are Zlork.  😄 \n",
      "\n",
      "I have a good memory, especially for names. What can I help you with today, Zlork? \n",
      "\n"
     ]
    }
   ],
   "source": [
    "# While you have the `chat` object around, the conversation state\n",
    "# persists. Confirm that by asking if it knows my name.\n",
    "response = chat.send_message('Do you remember what my name is?')\n",
    "print(response.text)"
   ]
  },
  {
   "cell_type": "markdown",
   "id": "f8915024",
   "metadata": {
    "id": "2KAjpr1200sW",
    "papermill": {
     "duration": 0.013686,
     "end_time": "2024-11-11T19:34:32.685455",
     "exception": false,
     "start_time": "2024-11-11T19:34:32.671769",
     "status": "completed"
    },
    "tags": []
   },
   "source": [
    "### Choose a model\n",
    "\n",
    "The Gemini API provides access to a number of models from the Gemini model family. Read about the available models and their capabilities on the [model overview page](https://ai.google.dev/gemini-api/docs/models/gemini).\n",
    "\n",
    "In this step you'll use the API to list all of the available models."
   ]
  },
  {
   "cell_type": "code",
   "execution_count": 10,
   "id": "2a9e24d8",
   "metadata": {
    "execution": {
     "iopub.execute_input": "2024-11-11T19:34:32.714776Z",
     "iopub.status.busy": "2024-11-11T19:34:32.714358Z",
     "iopub.status.idle": "2024-11-11T19:34:32.915852Z",
     "shell.execute_reply": "2024-11-11T19:34:32.914561Z"
    },
    "id": "uUUZa2uq2jDm",
    "papermill": {
     "duration": 0.219132,
     "end_time": "2024-11-11T19:34:32.918386",
     "exception": false,
     "start_time": "2024-11-11T19:34:32.699254",
     "status": "completed"
    },
    "tags": []
   },
   "outputs": [
    {
     "name": "stdout",
     "output_type": "stream",
     "text": [
      "models/chat-bison-001\n",
      "models/text-bison-001\n",
      "models/embedding-gecko-001\n",
      "models/gemini-1.0-pro-latest\n",
      "models/gemini-1.0-pro\n",
      "models/gemini-pro\n",
      "models/gemini-1.0-pro-001\n",
      "models/gemini-1.0-pro-vision-latest\n",
      "models/gemini-pro-vision\n",
      "models/gemini-1.5-pro-latest\n",
      "models/gemini-1.5-pro-001\n",
      "models/gemini-1.5-pro-002\n",
      "models/gemini-1.5-pro\n",
      "models/gemini-1.5-pro-exp-0801\n",
      "models/gemini-1.5-pro-exp-0827\n",
      "models/gemini-1.5-flash-latest\n",
      "models/gemini-1.5-flash-001\n",
      "models/gemini-1.5-flash-001-tuning\n",
      "models/gemini-1.5-flash\n",
      "models/gemini-1.5-flash-exp-0827\n",
      "models/gemini-1.5-flash-002\n",
      "models/gemini-1.5-flash-8b\n",
      "models/gemini-1.5-flash-8b-001\n",
      "models/gemini-1.5-flash-8b-latest\n",
      "models/gemini-1.5-flash-8b-exp-0827\n",
      "models/gemini-1.5-flash-8b-exp-0924\n",
      "models/embedding-001\n",
      "models/text-embedding-004\n",
      "models/aqa\n"
     ]
    }
   ],
   "source": [
    "for model in genai.list_models():\n",
    "  print(model.name)"
   ]
  },
  {
   "cell_type": "markdown",
   "id": "44e72c07",
   "metadata": {
    "id": "rN49kSI54R1v",
    "papermill": {
     "duration": 0.013347,
     "end_time": "2024-11-11T19:34:32.945507",
     "exception": false,
     "start_time": "2024-11-11T19:34:32.932160",
     "status": "completed"
    },
    "tags": []
   },
   "source": [
    "The [`models.list`](https://ai.google.dev/api/models#method:-models.list) response also returns additional information about the model's capabilities, like the token limits and supported parameters."
   ]
  },
  {
   "cell_type": "code",
   "execution_count": 11,
   "id": "d066f0c7",
   "metadata": {
    "execution": {
     "iopub.execute_input": "2024-11-11T19:34:32.974473Z",
     "iopub.status.busy": "2024-11-11T19:34:32.974081Z",
     "iopub.status.idle": "2024-11-11T19:34:33.422839Z",
     "shell.execute_reply": "2024-11-11T19:34:33.421412Z"
    },
    "id": "k7JJ1K6j4Rl8",
    "papermill": {
     "duration": 0.4665,
     "end_time": "2024-11-11T19:34:33.425597",
     "exception": false,
     "start_time": "2024-11-11T19:34:32.959097",
     "status": "completed"
    },
    "tags": []
   },
   "outputs": [
    {
     "name": "stdout",
     "output_type": "stream",
     "text": [
      "Model(name='models/gemini-1.5-flash',\n",
      "      base_model_id='',\n",
      "      version='001',\n",
      "      display_name='Gemini 1.5 Flash',\n",
      "      description='Fast and versatile multimodal model for scaling across diverse tasks',\n",
      "      input_token_limit=1000000,\n",
      "      output_token_limit=8192,\n",
      "      supported_generation_methods=['generateContent', 'countTokens'],\n",
      "      temperature=1.0,\n",
      "      max_temperature=2.0,\n",
      "      top_p=0.95,\n",
      "      top_k=40)\n"
     ]
    }
   ],
   "source": [
    "for model in genai.list_models():\n",
    "  if model.name == 'models/gemini-1.5-flash':\n",
    "    print(model)\n",
    "    break"
   ]
  },
  {
   "cell_type": "markdown",
   "id": "55ace8c8",
   "metadata": {
    "id": "5rU_UBlZdooM",
    "papermill": {
     "duration": 0.013316,
     "end_time": "2024-11-11T19:34:33.452750",
     "exception": false,
     "start_time": "2024-11-11T19:34:33.439434",
     "status": "completed"
    },
    "tags": []
   },
   "source": [
    "## Explore generation parameters\n",
    "\n"
   ]
  },
  {
   "cell_type": "markdown",
   "id": "9b854d6e",
   "metadata": {
    "id": "G7NfEizeipbW",
    "papermill": {
     "duration": 0.013281,
     "end_time": "2024-11-11T19:34:33.479920",
     "exception": false,
     "start_time": "2024-11-11T19:34:33.466639",
     "status": "completed"
    },
    "tags": []
   },
   "source": [
    "### Output length\n",
    "\n",
    "When generating text with an LLM, the output length affects cost and performance. Generating more tokens increases computation, leading to higher energy consumption, latency, and cost.\n",
    "\n",
    "To stop the model from generating tokens past a limit, you can specify the `max_output_length` parameter when using the Gemini API. Specifying this parameter does not influence the generation of the output tokens, so the output will not become more stylistically or textually succinct, but it will stop generating tokens once the specified length is reached. Prompt engineering may be required to generate a more complete output for your given limit."
   ]
  },
  {
   "cell_type": "code",
   "execution_count": 12,
   "id": "e37eda05",
   "metadata": {
    "execution": {
     "iopub.execute_input": "2024-11-11T19:34:33.508950Z",
     "iopub.status.busy": "2024-11-11T19:34:33.508504Z",
     "iopub.status.idle": "2024-11-11T19:34:35.151362Z",
     "shell.execute_reply": "2024-11-11T19:34:35.150266Z"
    },
    "id": "qVf23JsIi9ma",
    "papermill": {
     "duration": 1.659974,
     "end_time": "2024-11-11T19:34:35.153636",
     "exception": false,
     "start_time": "2024-11-11T19:34:33.493662",
     "status": "completed"
    },
    "tags": []
   },
   "outputs": [
    {
     "name": "stdout",
     "output_type": "stream",
     "text": [
      "## The Unassuming Olive: A Cornerstone of Modern Society\n",
      "\n",
      "The olive, a seemingly simple fruit, holds a surprising weight in modern society. Its importance extends far beyond its culinary applications, weaving itself into the fabric of history, culture, economy, and even health. From ancient times to the present day, the olive has remained a constant, its humble appearance belying its profound impact.\n",
      "\n",
      "Historically, the olive has been a cornerstone of civilizations. Its origins trace back millennia, with evidence of cultivation dating back to 6000 BC in the Mediterranean region. The olive tree, a symbol of resilience and longevity, played a vital role in ancient Greek and Roman societies, where it was not only a source of food but also held religious and cultural significance. Olive oil, a product of the fruit, was used as a lamp fuel, medicine, and even as a form of currency. This ancient legacy continues to resonate today, with olive oil remaining a staple ingredient in Mediterranean cuisine, its\n"
     ]
    }
   ],
   "source": [
    "short_model = genai.GenerativeModel(\n",
    "    'gemini-1.5-flash',\n",
    "    generation_config=genai.GenerationConfig(max_output_tokens=200))\n",
    "\n",
    "response = short_model.generate_content('Write a 1000 word essay on the importance of olives in modern society.')\n",
    "print(response.text)"
   ]
  },
  {
   "cell_type": "code",
   "execution_count": 13,
   "id": "c2118176",
   "metadata": {
    "execution": {
     "iopub.execute_input": "2024-11-11T19:34:35.183345Z",
     "iopub.status.busy": "2024-11-11T19:34:35.182930Z",
     "iopub.status.idle": "2024-11-11T19:34:36.304057Z",
     "shell.execute_reply": "2024-11-11T19:34:36.302270Z"
    },
    "id": "W-3kR2F5kdMR",
    "papermill": {
     "duration": 1.139156,
     "end_time": "2024-11-11T19:34:36.306706",
     "exception": false,
     "start_time": "2024-11-11T19:34:35.167550",
     "status": "completed"
    },
    "tags": []
   },
   "outputs": [
    {
     "name": "stdout",
     "output_type": "stream",
     "text": [
      "A tiny fruit, a briny sphere,\n",
      "A taste of sun, a flavor clear.\n",
      "From ancient groves, a humble prize,\n",
      "Now on our tables, olives rise.\n",
      "\n",
      "In salads green, a pungent bite,\n",
      "A savory snack, a pure delight.\n",
      "A splash of oil, a golden sheen,\n",
      "To nourish life, a vibrant scene.\n",
      "\n",
      "From Kalamata's dark and bold,\n",
      "To Manzanillo, smooth and old,\n",
      "A vibrant world, in every kind,\n",
      "A taste of history, we find.\n",
      "\n",
      "So raise a glass, to this small seed,\n",
      "A symbol of life, a fruitful deed.\n",
      "The olive's grace, a modern boon,\n",
      "A tiny treasure, under the moon. \n",
      "\n"
     ]
    }
   ],
   "source": [
    "response = short_model.generate_content('Write a short poem on the importance of olives in modern society.')\n",
    "print(response.text)"
   ]
  },
  {
   "cell_type": "markdown",
   "id": "09d599f4",
   "metadata": {
    "id": "3ZhDSLB6lqqB",
    "papermill": {
     "duration": 0.013545,
     "end_time": "2024-11-11T19:34:36.334511",
     "exception": false,
     "start_time": "2024-11-11T19:34:36.320966",
     "status": "completed"
    },
    "tags": []
   },
   "source": [
    "Explore with your own prompts. Try a prompt with a restrictive output limit and then adjust the prompt to work within that limit."
   ]
  },
  {
   "cell_type": "markdown",
   "id": "a9505986",
   "metadata": {
    "id": "alx-WaAvir_9",
    "papermill": {
     "duration": 0.013975,
     "end_time": "2024-11-11T19:34:36.362425",
     "exception": false,
     "start_time": "2024-11-11T19:34:36.348450",
     "status": "completed"
    },
    "tags": []
   },
   "source": [
    "### Temperature\n",
    "\n",
    "Temperature controls the degree of randomness in token selection. Higher temperatures result in a higher number of candidate tokens from which the next output token is selected, and can produce more diverse results, while lower temperatures have the opposite effect, such that a temperature of 0 results in greedy decoding, selecting the most probable token at each step.\n",
    "\n",
    "Temperature doesn't provide any guarantees of randomness, but it can be used to \"nudge\" the output somewhat."
   ]
  },
  {
   "cell_type": "code",
   "execution_count": 14,
   "id": "aa68b794",
   "metadata": {
    "execution": {
     "iopub.execute_input": "2024-11-11T19:34:36.392282Z",
     "iopub.status.busy": "2024-11-11T19:34:36.391866Z",
     "iopub.status.idle": "2024-11-11T19:34:38.853185Z",
     "shell.execute_reply": "2024-11-11T19:34:38.851781Z"
    },
    "id": "SHraGMzqnZqt",
    "papermill": {
     "duration": 2.479542,
     "end_time": "2024-11-11T19:34:38.855957",
     "exception": false,
     "start_time": "2024-11-11T19:34:36.376415",
     "status": "completed"
    },
    "tags": []
   },
   "outputs": [
    {
     "name": "stdout",
     "output_type": "stream",
     "text": [
      "Purple \n",
      " -------------------------\n",
      "Indigo \n",
      " -------------------------\n",
      "Blue \n",
      " -------------------------\n",
      "Blue \n",
      " -------------------------\n"
     ]
    }
   ],
   "source": [
    "import time\n",
    "\n",
    "high_temp_model = genai.GenerativeModel(\n",
    "    'gemini-1.5-flash',\n",
    "generation_config=genai.GenerationConfig(temperature=2.0, max_output_tokens=5))\n",
    "\n",
    "for _ in range(4):\n",
    "    response = high_temp_model.generate_content('Pick a random colour… (in a single word)')\n",
    "    if response.parts:\n",
    "        print(response.text, '-' * 25)\n",
    "\n",
    "# Slow down a bit so we don't get Resource Exhausted errors.\n",
    "time.sleep(1)"
   ]
  },
  {
   "cell_type": "markdown",
   "id": "18a3c484",
   "metadata": {
    "id": "z3J4pCTuof7e",
    "papermill": {
     "duration": 0.013784,
     "end_time": "2024-11-11T19:34:38.884441",
     "exception": false,
     "start_time": "2024-11-11T19:34:38.870657",
     "status": "completed"
    },
    "tags": []
   },
   "source": [
    "Now try the same prompt with temperature set to zero. Note that the output is not completely deterministic, as other parameters affect token selection, but the results will tend to be more stable."
   ]
  },
  {
   "cell_type": "code",
   "execution_count": 15,
   "id": "2448d73e",
   "metadata": {
    "execution": {
     "iopub.execute_input": "2024-11-11T19:34:38.915034Z",
     "iopub.status.busy": "2024-11-11T19:34:38.914490Z",
     "iopub.status.idle": "2024-11-11T19:36:00.714800Z",
     "shell.execute_reply": "2024-11-11T19:36:00.713692Z"
    },
    "id": "clymkWv-PfUZ",
    "papermill": {
     "duration": 81.81898,
     "end_time": "2024-11-11T19:36:00.717616",
     "exception": false,
     "start_time": "2024-11-11T19:34:38.898636",
     "status": "completed"
    },
    "tags": []
   },
   "outputs": [
    {
     "name": "stdout",
     "output_type": "stream",
     "text": [
      "Blue \n",
      " -------------------------\n",
      "Blue \n",
      " -------------------------\n",
      "Blue \n",
      " -------------------------\n",
      "Blue \n",
      " -------------------------\n"
     ]
    }
   ],
   "source": [
    "low_temp_model = genai.GenerativeModel(\n",
    "    'gemini-1.5-flash',\n",
    "    generation_config=genai.GenerationConfig(temperature=0.0))\n",
    "\n",
    "for _ in range(4):\n",
    "  response = low_temp_model.generate_content('Pick a random colour... (answer in a one word)')\n",
    "  if response.parts:\n",
    "    print(response.text, '-' * 25)\n",
    "\n",
    "  time.sleep(20)"
   ]
  },
  {
   "cell_type": "markdown",
   "id": "56ecc300",
   "metadata": {
    "id": "St5nt3vzitsZ",
    "papermill": {
     "duration": 0.014315,
     "end_time": "2024-11-11T19:36:00.746684",
     "exception": false,
     "start_time": "2024-11-11T19:36:00.732369",
     "status": "completed"
    },
    "tags": []
   },
   "source": [
    "### Top-K and top-P\n",
    "\n",
    "Like temperature, top-K and top-P parameters are also used to control the diversity of the model's output.\n",
    "\n",
    "Top-K is a positive integer that defines the number of most probable tokens from which to select the output token. A top-K of 1 selects a single token, performing greedy decoding.\n",
    "\n",
    "Top-P defines the probability threshold that, once cumulatively exceeded, tokens stop being selected as candidates. A top-P of 0 is typically equivalent to greedy decoding, and a top-P of 1 typically selects every token in the model's vocabulary.\n",
    "\n",
    "When both are supplied, the Gemini API will filter top-K tokens first, then top-P and then finally sample from the candidate tokens using the supplied temperature.\n",
    "\n",
    "Run this example a number of times, change the settings and observe the change in output."
   ]
  },
  {
   "cell_type": "code",
   "execution_count": 16,
   "id": "5337edb2",
   "metadata": {
    "execution": {
     "iopub.execute_input": "2024-11-11T19:36:00.777719Z",
     "iopub.status.busy": "2024-11-11T19:36:00.776695Z",
     "iopub.status.idle": "2024-11-11T19:36:03.396291Z",
     "shell.execute_reply": "2024-11-11T19:36:03.394935Z"
    },
    "id": "lPlzpEavUV8F",
    "papermill": {
     "duration": 2.638075,
     "end_time": "2024-11-11T19:36:03.398963",
     "exception": false,
     "start_time": "2024-11-11T19:36:00.760888",
     "status": "completed"
    },
    "tags": []
   },
   "outputs": [
    {
     "name": "stdout",
     "output_type": "stream",
     "text": [
      "Bartholomew, a ginger tabby with a penchant for sunbeams and tuna, lived a life of quiet domesticity. Until, that is, a peculiar aroma drifted through his window, a scent of damp earth and distant adventure. It was the smell of…grass. \n",
      "\n",
      "Bartholomew, ever the curious soul, felt a thrill course through his whiskers. He’d never been outside the garden, a perfectly manicured paradise of lavender and roses. He longed for something more, something wild. \n",
      "\n",
      "He watched the sun dip below the horizon, casting long shadows across the lawn. His opportunity had arrived. With a silent, graceful leap, he landed on the windowsill, a mischievous glint in his eyes. He pushed the window open, a sliver of freedom beckoning him.\n",
      "\n",
      "The world beyond was a symphony of sights and sounds. Bartholomew, nose twitching, explored with a newfound enthusiasm. He stalked through the dewy grass, his paws leaving delicate prints in the morning mist. He chased butterflies with the fervor of a seasoned hunter, their wings a blur of color against the azure sky. \n",
      "\n",
      "He encountered a gaggle of geese, their honks a comical symphony, and a wise old squirrel, perched on a branch, who gave him a knowing nod. He learned to climb, his claws finding purchase on the rough bark of a towering oak tree. He even befriended a grumpy but lovable bulldog, who, despite his imposing size, proved to be a gentle soul. \n",
      "\n",
      "The day was filled with exhilarating discoveries, and Bartholomew felt a surge of pride. He’d found his own little world, a world of freedom and adventure, just beyond the confines of his garden. \n",
      "\n",
      "As dusk painted the sky in hues of lavender and orange, Bartholomew returned home, his paws heavy with the weight of his explorations. He settled on his favorite cushion, a contented purr rumbling in his chest. He knew he’d never be the same again. His garden was still his haven, but now, it was a haven that opened into a world of endless possibility, a world he could now explore at his own pace, a world he could call his own. \n",
      "\n",
      "He closed his eyes, his whiskers twitching as he dreamt of the adventures that awaited him, of the countless wonders hidden just beyond the familiar boundaries of his life. Bartholomew, the ginger tabby with the adventurous spirit, had found his place in the world, and it was a world that was waiting to be discovered. \n",
      "\n"
     ]
    }
   ],
   "source": [
    "model = genai.GenerativeModel(\n",
    "    'gemini-1.5-flash-001',\n",
    "    generation_config=genai.GenerationConfig(\n",
    "        # These are the default values for gemini-1.5-flash-001.\n",
    "        temperature=1.0,\n",
    "        top_k=64,\n",
    "        top_p=0.95,\n",
    "    ))\n",
    "\n",
    "story_prompt = \"You are a creative writer. Write a short story about a cat who goes on an adventure.\"\n",
    "response = model.generate_content(story_prompt)\n",
    "print(response.text)"
   ]
  },
  {
   "cell_type": "markdown",
   "id": "58c3e01a",
   "metadata": {
    "id": "rMrYs1koY6DX",
    "papermill": {
     "duration": 0.014417,
     "end_time": "2024-11-11T19:36:03.427860",
     "exception": false,
     "start_time": "2024-11-11T19:36:03.413443",
     "status": "completed"
    },
    "tags": []
   },
   "source": [
    "## Prompting\n",
    "\n",
    "This section contains some prompts from the chapter for you to try out directly in the API. Try changing the text here to see how each prompt performs with different instructions, more examples, or any other changes you can think of."
   ]
  },
  {
   "cell_type": "markdown",
   "id": "aae4159e",
   "metadata": {
    "id": "hhj_tQidZJP7",
    "papermill": {
     "duration": 0.014094,
     "end_time": "2024-11-11T19:36:03.456547",
     "exception": false,
     "start_time": "2024-11-11T19:36:03.442453",
     "status": "completed"
    },
    "tags": []
   },
   "source": [
    "### Zero-shot\n",
    "\n",
    "Zero-shot prompts are prompts that describe the request for the model directly.\n",
    "\n",
    "<table align=left>\n",
    "  <td>\n",
    "    <a target=\"_blank\" href=\"https://aistudio.google.com/prompts/1gzKKgDHwkAvexG5Up0LMtl1-6jKMKe4g\"><img src=\"https://ai.google.dev/site-assets/images/marketing/home/icon-ais.png\" style=\"height: 24px\" height=24/> Open in AI Studio</a>\n",
    "  </td>\n",
    "</table>"
   ]
  },
  {
   "cell_type": "code",
   "execution_count": 17,
   "id": "b29c4f64",
   "metadata": {
    "execution": {
     "iopub.execute_input": "2024-11-11T19:36:03.487422Z",
     "iopub.status.busy": "2024-11-11T19:36:03.486987Z",
     "iopub.status.idle": "2024-11-11T19:36:03.900282Z",
     "shell.execute_reply": "2024-11-11T19:36:03.899115Z"
    },
    "id": "1_t-cwnDZzbH",
    "papermill": {
     "duration": 0.431909,
     "end_time": "2024-11-11T19:36:03.902986",
     "exception": false,
     "start_time": "2024-11-11T19:36:03.471077",
     "status": "completed"
    },
    "tags": []
   },
   "outputs": [
    {
     "name": "stdout",
     "output_type": "stream",
     "text": [
      "Sentiment: **POSITIVE**\n"
     ]
    }
   ],
   "source": [
    "model = genai.GenerativeModel(\n",
    "    'gemini-1.5-flash-001',\n",
    "    generation_config=genai.GenerationConfig(\n",
    "        temperature=0.1,\n",
    "        top_p=1,\n",
    "        max_output_tokens=5,\n",
    "    ))\n",
    "\n",
    "zero_shot_prompt = \"\"\"Classify movie reviews as POSITIVE, NEUTRAL or NEGATIVE.\n",
    "Review: \"Her\" is a disturbing study revealing the direction\n",
    "humanity is headed if AI is allowed to keep evolving,\n",
    "unchecked. I wish there were more movies like this masterpiece.\n",
    "Sentiment: \"\"\"\n",
    "\n",
    "response = model.generate_content(zero_shot_prompt)\n",
    "print(response.text)"
   ]
  },
  {
   "cell_type": "markdown",
   "id": "677d8a4e",
   "metadata": {
    "id": "3b5568bdeb11",
    "papermill": {
     "duration": 0.014235,
     "end_time": "2024-11-11T19:36:03.931978",
     "exception": false,
     "start_time": "2024-11-11T19:36:03.917743",
     "status": "completed"
    },
    "tags": []
   },
   "source": [
    "#### Enum mode\n",
    "\n",
    "The models are trained to generate text, and can sometimes produce more text than you may wish for. In the preceding example, the model will output the label, sometimes it can include a preceding \"Sentiment\" label, and without an output token limit, it may also add explanatory text afterwards.\n",
    "\n",
    "The Gemini API has an [Enum mode](https://github.com/google-gemini/cookbook/blob/main/quickstarts/Enum.ipynb) feature that allows you to constrain the output to a fixed set of values."
   ]
  },
  {
   "cell_type": "code",
   "execution_count": 18,
   "id": "3fa57135",
   "metadata": {
    "execution": {
     "iopub.execute_input": "2024-11-11T19:36:03.962406Z",
     "iopub.status.busy": "2024-11-11T19:36:03.962000Z",
     "iopub.status.idle": "2024-11-11T19:36:04.565131Z",
     "shell.execute_reply": "2024-11-11T19:36:04.563890Z"
    },
    "id": "ad118a56c598",
    "papermill": {
     "duration": 0.621522,
     "end_time": "2024-11-11T19:36:04.567895",
     "exception": false,
     "start_time": "2024-11-11T19:36:03.946373",
     "status": "completed"
    },
    "tags": []
   },
   "outputs": [
    {
     "name": "stdout",
     "output_type": "stream",
     "text": [
      "positive\n"
     ]
    }
   ],
   "source": [
    "import enum\n",
    "\n",
    "class Sentiment(enum.Enum):\n",
    "    POSITIVE = \"positive\"\n",
    "    NEUTRAL = \"neutral\"\n",
    "    NEGATIVE = \"negative\"\n",
    "\n",
    "\n",
    "model = genai.GenerativeModel(\n",
    "    'gemini-1.5-flash-001',\n",
    "    generation_config=genai.GenerationConfig(\n",
    "        response_mime_type=\"text/x.enum\",\n",
    "        response_schema=Sentiment\n",
    "    ))\n",
    "\n",
    "response = model.generate_content(zero_shot_prompt)\n",
    "print(response.text)"
   ]
  },
  {
   "cell_type": "markdown",
   "id": "088edb8b",
   "metadata": {
    "id": "0udiSwNbv45W",
    "papermill": {
     "duration": 0.015186,
     "end_time": "2024-11-11T19:36:04.598235",
     "exception": false,
     "start_time": "2024-11-11T19:36:04.583049",
     "status": "completed"
    },
    "tags": []
   },
   "source": [
    "### One-shot and few-shot\n",
    "\n",
    "Providing an example of the expected response is known as a \"one-shot\" prompt. When you provide multiple examples, it is a \"few-shot\" prompt.\n",
    "\n",
    "<table align=left>\n",
    "  <td>\n",
    "    <a target=\"_blank\" href=\"https://aistudio.google.com/prompts/1jjWkjUSoMXmLvMJ7IzADr_GxHPJVV2bg\"><img src=\"https://ai.google.dev/site-assets/images/marketing/home/icon-ais.png\" style=\"height: 24px\" height=24/> Open in AI Studio</a>\n",
    "  </td>\n",
    "</table>\n"
   ]
  },
  {
   "cell_type": "code",
   "execution_count": 19,
   "id": "7bdfcd6e",
   "metadata": {
    "execution": {
     "iopub.execute_input": "2024-11-11T19:36:04.630148Z",
     "iopub.status.busy": "2024-11-11T19:36:04.629719Z",
     "iopub.status.idle": "2024-11-11T19:36:05.708677Z",
     "shell.execute_reply": "2024-11-11T19:36:05.707223Z"
    },
    "id": "hd4mVUukwOKZ",
    "papermill": {
     "duration": 1.097845,
     "end_time": "2024-11-11T19:36:05.711275",
     "exception": false,
     "start_time": "2024-11-11T19:36:04.613430",
     "status": "completed"
    },
    "tags": []
   },
   "outputs": [
    {
     "name": "stdout",
     "output_type": "stream",
     "text": [
      "```json\n",
      "{\n",
      "\"size\": \"large\",\n",
      "\"type\": \"normal\",\n",
      "\"ingredients\": [\"cheese\", \"pineapple\"]\n",
      "}\n",
      "``` \n",
      "\n"
     ]
    }
   ],
   "source": [
    "model = genai.GenerativeModel(\n",
    "    'gemini-1.5-flash-latest',\n",
    "    generation_config=genai.GenerationConfig(\n",
    "        temperature=0.1,\n",
    "        top_p=1,\n",
    "        max_output_tokens=250,\n",
    "    ))\n",
    "\n",
    "few_shot_prompt = \"\"\"Parse a customer's pizza order into valid JSON:\n",
    "\n",
    "EXAMPLE:\n",
    "I want a small pizza with cheese, tomato sauce, and pepperoni.\n",
    "JSON Response:\n",
    "```\n",
    "{\n",
    "\"size\": \"small\",\n",
    "\"type\": \"normal\",\n",
    "\"ingredients\": [\"cheese\", \"tomato sauce\", \"peperoni\"]\n",
    "}\n",
    "```\n",
    "\n",
    "EXAMPLE:\n",
    "Can I get a large pizza with tomato sauce, basil and mozzarella\n",
    "JSON Response:\n",
    "```\n",
    "{\n",
    "\"size\": \"large\",\n",
    "\"type\": \"normal\",\n",
    "\"ingredients\": [\"tomato sauce\", \"basil\", \"mozzarella\"]\n",
    "}\n",
    "\n",
    "ORDER:\n",
    "\"\"\"\n",
    "\n",
    "customer_order = \"Give me a large with cheese & pineapple\"\n",
    "\n",
    "\n",
    "response = model.generate_content([few_shot_prompt, customer_order])\n",
    "print(response.text)"
   ]
  },
  {
   "cell_type": "markdown",
   "id": "c15f4b1c",
   "metadata": {
    "id": "021293096f08",
    "papermill": {
     "duration": 0.014838,
     "end_time": "2024-11-11T19:36:05.740899",
     "exception": false,
     "start_time": "2024-11-11T19:36:05.726061",
     "status": "completed"
    },
    "tags": []
   },
   "source": [
    "#### JSON mode\n",
    "\n",
    "To provide control over the schema, and to ensure that you only receive JSON (with no other text or markdown), you can use the Gemini API's [JSON mode](https://github.com/google-gemini/cookbook/blob/main/quickstarts/JSON_mode.ipynb). This forces the model to constrain decoding, such that token selection is guided by the supplied schema."
   ]
  },
  {
   "cell_type": "code",
   "execution_count": 20,
   "id": "159459ef",
   "metadata": {
    "execution": {
     "iopub.execute_input": "2024-11-11T19:36:05.772464Z",
     "iopub.status.busy": "2024-11-11T19:36:05.772065Z",
     "iopub.status.idle": "2024-11-11T19:36:06.424066Z",
     "shell.execute_reply": "2024-11-11T19:36:06.422726Z"
    },
    "id": "50fbf0260912",
    "papermill": {
     "duration": 0.670625,
     "end_time": "2024-11-11T19:36:06.426413",
     "exception": false,
     "start_time": "2024-11-11T19:36:05.755788",
     "status": "completed"
    },
    "tags": []
   },
   "outputs": [
    {
     "name": "stdout",
     "output_type": "stream",
     "text": [
      "{\"ingredients\": [\"apple\", \"chocolate\"], \"size\": \"large\", \"type\": \"dessert\"}\n",
      "\n"
     ]
    }
   ],
   "source": [
    "import typing_extensions as typing\n",
    "\n",
    "class PizzaOrder(typing.TypedDict):\n",
    "    size: str\n",
    "    ingredients: list[str]\n",
    "    type: str\n",
    "\n",
    "\n",
    "model = genai.GenerativeModel(\n",
    "    'gemini-1.5-flash-latest',\n",
    "    generation_config=genai.GenerationConfig(\n",
    "        temperature=0.1,\n",
    "        response_mime_type=\"application/json\",\n",
    "        response_schema=PizzaOrder,\n",
    "    ))\n",
    "\n",
    "response = model.generate_content(\"Can I have a large dessert pizza with apple and chocolate\")\n",
    "print(response.text)"
   ]
  },
  {
   "cell_type": "markdown",
   "id": "9b630253",
   "metadata": {
    "id": "4a93e338e57c",
    "papermill": {
     "duration": 0.014401,
     "end_time": "2024-11-11T19:36:06.456539",
     "exception": false,
     "start_time": "2024-11-11T19:36:06.442138",
     "status": "completed"
    },
    "tags": []
   },
   "source": [
    "### Chain of Thought (CoT)\n",
    "\n",
    "Direct prompting on LLMs can return answers quickly and (in terms of output token usage) efficiently, but they can be prone to hallucination. The answer may \"look\" correct (in terms of language and syntax) but is incorrect in terms of factuality and reasoning.\n",
    "\n",
    "Chain-of-Thought prompting is a technique where you instruct the model to output intermediate reasoning steps, and it typically gets better results, especially when combined with few-shot examples. It is worth noting that this technique doesn't completely eliminate hallucinations, and that it tends to cost more to run, due to the increased token count.\n",
    "\n",
    "As models like the Gemini family are trained to be \"chatty\" and provide reasoning steps, you can ask the model to be more direct in the prompt."
   ]
  },
  {
   "cell_type": "code",
   "execution_count": 21,
   "id": "43ff5bd4",
   "metadata": {
    "execution": {
     "iopub.execute_input": "2024-11-11T19:36:06.488162Z",
     "iopub.status.busy": "2024-11-11T19:36:06.487245Z",
     "iopub.status.idle": "2024-11-11T19:36:07.167920Z",
     "shell.execute_reply": "2024-11-11T19:36:07.166654Z"
    },
    "id": "5715555db1c1",
    "papermill": {
     "duration": 0.698932,
     "end_time": "2024-11-11T19:36:07.170185",
     "exception": false,
     "start_time": "2024-11-11T19:36:06.471253",
     "status": "completed"
    },
    "tags": []
   },
   "outputs": [
    {
     "name": "stdout",
     "output_type": "stream",
     "text": [
      "When you were 4, your partner was 3 times your age, meaning they were 12 (4 * 3 = 12).\n",
      "\n",
      "This means your partner is 8 years older than you (12 - 4 = 8).\n",
      "\n",
      "Therefore, your partner is currently 28 years old (20 + 8 = 28). \n",
      "\n"
     ]
    }
   ],
   "source": [
    "prompt = \"\"\"When I was 4 years old, my partner was 3 times my age. Now, I\n",
    "am 20 years old. How old is my partner? Return the answer immediately.\"\"\"\n",
    "\n",
    "model = genai.GenerativeModel('gemini-1.5-flash-latest')\n",
    "response = model.generate_content(prompt)\n",
    "\n",
    "print(response.text)"
   ]
  },
  {
   "cell_type": "markdown",
   "id": "2b0f62e0",
   "metadata": {
    "id": "e12b19677bfd",
    "papermill": {
     "duration": 0.01536,
     "end_time": "2024-11-11T19:36:07.203422",
     "exception": false,
     "start_time": "2024-11-11T19:36:07.188062",
     "status": "completed"
    },
    "tags": []
   },
   "source": [
    "Now try the same approach, but indicate to the model that it should \"think step by step\"."
   ]
  },
  {
   "cell_type": "code",
   "execution_count": 22,
   "id": "1c2a2ebe",
   "metadata": {
    "execution": {
     "iopub.execute_input": "2024-11-11T19:36:07.235329Z",
     "iopub.status.busy": "2024-11-11T19:36:07.234915Z",
     "iopub.status.idle": "2024-11-11T19:36:07.878310Z",
     "shell.execute_reply": "2024-11-11T19:36:07.876997Z"
    },
    "id": "ffd7536a481f",
    "papermill": {
     "duration": 0.662278,
     "end_time": "2024-11-11T19:36:07.880847",
     "exception": false,
     "start_time": "2024-11-11T19:36:07.218569",
     "status": "completed"
    },
    "tags": []
   },
   "outputs": [
    {
     "name": "stdout",
     "output_type": "stream",
     "text": [
      "Here's how to solve this:\n",
      "\n",
      "* **When you were 4:** Your partner was 3 times your age, so they were 4 * 3 = 12 years old.\n",
      "* **Age difference:** This means your partner is 12 - 4 = 8 years older than you.\n",
      "* **Current age:**  Since you are now 20, your partner is 20 + 8 = **28 years old**. \n",
      "\n"
     ]
    }
   ],
   "source": [
    "prompt = \"\"\"When I was 4 years old, my partner was 3 times my age. Now,\n",
    "I am 20 years old. How old is my partner? Let's think step by step.\"\"\"\n",
    "\n",
    "response = model.generate_content(prompt)\n",
    "print(response.text)"
   ]
  },
  {
   "cell_type": "markdown",
   "id": "29ce1575",
   "metadata": {
    "id": "oiLgBQJj0V53",
    "papermill": {
     "duration": 0.014566,
     "end_time": "2024-11-11T19:36:07.910514",
     "exception": false,
     "start_time": "2024-11-11T19:36:07.895948",
     "status": "completed"
    },
    "tags": []
   },
   "source": [
    "### ReAct: Reason and act\n",
    "\n",
    "In this example you will run a ReAct prompt directly in the Gemini API and perform the searching steps yourself. As this prompt follows a well-defined structure, there are frameworks available that wrap the prompt into easier-to-use APIs that make tool calls automatically, such as the LangChain example from the chapter.\n",
    "\n",
    "To try this out with the Wikipedia search engine, check out the [Searching Wikipedia with ReAct](https://github.com/google-gemini/cookbook/blob/main/examples/Search_Wikipedia_using_ReAct.ipynb) cookbook example.\n",
    "\n",
    "\n",
    "> Note: The prompt and in-context examples used here are from [https://github.com/ysymyth/ReAct](https://github.com/ysymyth/ReAct) which is published under a [MIT license](https://opensource.org/licenses/MIT), Copyright (c) 2023 Shunyu Yao.\n",
    "\n",
    "<table align=left>\n",
    "  <td>\n",
    "    <a target=\"_blank\" href=\"https://aistudio.google.com/prompts/18oo63Lwosd-bQ6Ay51uGogB3Wk3H8XMO\"><img src=\"https://ai.google.dev/site-assets/images/marketing/home/icon-ais.png\" style=\"height: 24px\" height=24/> Open in AI Studio</a>\n",
    "  </td>\n",
    "</table>\n"
   ]
  },
  {
   "cell_type": "code",
   "execution_count": 23,
   "id": "5ac15ebd",
   "metadata": {
    "execution": {
     "iopub.execute_input": "2024-11-11T19:36:07.942369Z",
     "iopub.status.busy": "2024-11-11T19:36:07.941990Z",
     "iopub.status.idle": "2024-11-11T19:36:07.949292Z",
     "shell.execute_reply": "2024-11-11T19:36:07.948042Z"
    },
    "id": "cBgyNJ5z0VSs",
    "papermill": {
     "duration": 0.026404,
     "end_time": "2024-11-11T19:36:07.951800",
     "exception": false,
     "start_time": "2024-11-11T19:36:07.925396",
     "status": "completed"
    },
    "tags": []
   },
   "outputs": [],
   "source": [
    "model_instructions = \"\"\"\n",
    "Solve a question answering task with interleaving Thought, Action, Observation steps. Thought can reason about the current situation,\n",
    "Observation is understanding relevant information from an Action's output and Action can be one of three types:\n",
    " (1) <search>entity</search>, which searches the exact entity on Wikipedia and returns the first paragraph if it exists. If not, it\n",
    "     will return some similar entities to search and you can try to search the information from those topics.\n",
    " (2) <lookup>keyword</lookup>, which returns the next sentence containing keyword in the current context. This only does exact matches,\n",
    "     so keep your searches short.\n",
    " (3) <finish>answer</finish>, which returns the answer and finishes the task.\n",
    "\"\"\"\n",
    "\n",
    "example1 = \"\"\"Question\n",
    "Musician and satirist Allie Goertz wrote a song about the \"The Simpsons\" character Milhouse, who Matt Groening named after who?\n",
    "\n",
    "Thought 1\n",
    "The question simplifies to \"The Simpsons\" character Milhouse is named after who. I only need to search Milhouse and find who it is named after.\n",
    "\n",
    "Action 1\n",
    "<search>Milhouse</search>\n",
    "\n",
    "Observation 1\n",
    "Milhouse Mussolini Van Houten is a recurring character in the Fox animated television series The Simpsons voiced by Pamela Hayden and created by Matt Groening.\n",
    "\n",
    "Thought 2\n",
    "The paragraph does not tell who Milhouse is named after, maybe I can look up \"named after\".\n",
    "\n",
    "Action 2\n",
    "<lookup>named after</lookup>\n",
    "\n",
    "Observation 2\n",
    "Milhouse was named after U.S. president Richard Nixon, whose middle name was Milhous.\n",
    "\n",
    "Thought 3\n",
    "Milhouse was named after U.S. president Richard Nixon, so the answer is Richard Nixon.\n",
    "\n",
    "Action 3\n",
    "<finish>Richard Nixon</finish>\n",
    "\"\"\"\n",
    "\n",
    "example2 = \"\"\"Question\n",
    "What is the elevation range for the area that the eastern sector of the Colorado orogeny extends into?\n",
    "\n",
    "Thought 1\n",
    "I need to search Colorado orogeny, find the area that the eastern sector of the Colorado orogeny extends into, then find the elevation range of the area.\n",
    "\n",
    "Action 1\n",
    "<search>Colorado orogeny</search>\n",
    "\n",
    "Observation 1\n",
    "The Colorado orogeny was an episode of mountain building (an orogeny) in Colorado and surrounding areas.\n",
    "\n",
    "Thought 2\n",
    "It does not mention the eastern sector. So I need to look up eastern sector.\n",
    "\n",
    "Action 2\n",
    "<lookup>eastern sector</lookup>\n",
    "\n",
    "Observation 2\n",
    "The eastern sector extends into the High Plains and is called the Central Plains orogeny.\n",
    "\n",
    "Thought 3\n",
    "The eastern sector of Colorado orogeny extends into the High Plains. So I need to search High Plains and find its elevation range.\n",
    "\n",
    "Action 3\n",
    "<search>High Plains</search>\n",
    "\n",
    "Observation 3\n",
    "High Plains refers to one of two distinct land regions\n",
    "\n",
    "Thought 4\n",
    "I need to instead search High Plains (United States).\n",
    "\n",
    "Action 4\n",
    "<search>High Plains (United States)</search>\n",
    "\n",
    "Observation 4\n",
    "The High Plains are a subregion of the Great Plains. From east to west, the High Plains rise in elevation from around 1,800 to 7,000 ft (550 to 2,130m).\n",
    "\n",
    "Thought 5\n",
    "High Plains rise in elevation from around 1,800 to 7,000 ft, so the answer is 1,800 to 7,000 ft.\n",
    "\n",
    "Action 5\n",
    "<finish>1,800 to 7,000 ft</finish>\n",
    "\"\"\"\n",
    "\n",
    "# Come up with more examples yourself, or take a look through https://github.com/ysymyth/ReAct/"
   ]
  },
  {
   "cell_type": "markdown",
   "id": "78c92105",
   "metadata": {
    "id": "C3wbfstjTgey",
    "papermill": {
     "duration": 0.014629,
     "end_time": "2024-11-11T19:36:07.981352",
     "exception": false,
     "start_time": "2024-11-11T19:36:07.966723",
     "status": "completed"
    },
    "tags": []
   },
   "source": [
    "To capture a single step at a time, while ignoring any hallucinated Observation steps, you will use `stop_sequences` to end the generation process. The steps are `Thought`, `Action`, `Observation`, in that order."
   ]
  },
  {
   "cell_type": "code",
   "execution_count": 24,
   "id": "f17c7aa5",
   "metadata": {
    "execution": {
     "iopub.execute_input": "2024-11-11T19:36:08.014910Z",
     "iopub.status.busy": "2024-11-11T19:36:08.013782Z",
     "iopub.status.idle": "2024-11-11T19:36:11.022514Z",
     "shell.execute_reply": "2024-11-11T19:36:11.021132Z"
    },
    "id": "8mxrXRkRTdXm",
    "papermill": {
     "duration": 3.029313,
     "end_time": "2024-11-11T19:36:11.025588",
     "exception": false,
     "start_time": "2024-11-11T19:36:07.996275",
     "status": "completed"
    },
    "tags": []
   },
   "outputs": [
    {
     "name": "stdout",
     "output_type": "stream",
     "text": [
      "Thought 1\n",
      "I need to find the Transformers NLP paper and then search for the youngest author.\n",
      "\n",
      "Action 1\n",
      "<search>Transformers NLP paper</search>\n",
      "\n"
     ]
    }
   ],
   "source": [
    "question = \"\"\"Question\n",
    "Who was the youngest author listed on the transformers NLP paper?\n",
    "\"\"\"\n",
    "\n",
    "model = genai.GenerativeModel('gemini-1.5-flash-latest')\n",
    "react_chat = model.start_chat()\n",
    "\n",
    "# You will perform the Action, so generate up to, but not including, the Observation.\n",
    "config = genai.GenerationConfig(stop_sequences=[\"\\nObservation\"])\n",
    "\n",
    "resp = react_chat.send_message(\n",
    "    [model_instructions, example1, example2, question],\n",
    "    generation_config=config)\n",
    "print(resp.text)"
   ]
  },
  {
   "cell_type": "markdown",
   "id": "5c20bbcc",
   "metadata": {
    "id": "aW2PIdLbVv3l",
    "papermill": {
     "duration": 0.014889,
     "end_time": "2024-11-11T19:36:11.056075",
     "exception": false,
     "start_time": "2024-11-11T19:36:11.041186",
     "status": "completed"
    },
    "tags": []
   },
   "source": [
    "Now you can perform this research yourself and supply it back to the model."
   ]
  },
  {
   "cell_type": "code",
   "execution_count": 25,
   "id": "4c0e2f4e",
   "metadata": {
    "execution": {
     "iopub.execute_input": "2024-11-11T19:36:11.088767Z",
     "iopub.status.busy": "2024-11-11T19:36:11.087620Z",
     "iopub.status.idle": "2024-11-11T19:36:11.671019Z",
     "shell.execute_reply": "2024-11-11T19:36:11.669755Z"
    },
    "id": "mLMc0DZaV9g2",
    "papermill": {
     "duration": 0.602307,
     "end_time": "2024-11-11T19:36:11.673539",
     "exception": false,
     "start_time": "2024-11-11T19:36:11.071232",
     "status": "completed"
    },
    "tags": []
   },
   "outputs": [
    {
     "name": "stdout",
     "output_type": "stream",
     "text": [
      "Thought 2\n",
      "The paper's authors are listed. I need to figure out which author is the youngest.\n",
      "\n",
      "Action 2\n",
      "<lookup>youngest</lookup> \n",
      "\n"
     ]
    }
   ],
   "source": [
    "observation = \"\"\"Observation 1\n",
    "[1706.03762] Attention Is All You Need\n",
    "Ashish Vaswani, Noam Shazeer, Niki Parmar, Jakob Uszkoreit, Llion Jones, Aidan N. Gomez, Lukasz Kaiser, Illia Polosukhin\n",
    "We propose a new simple network architecture, the Transformer, based solely on attention mechanisms, dispensing with recurrence and convolutions entirely.\n",
    "\"\"\"\n",
    "resp = react_chat.send_message(observation, generation_config=config)\n",
    "print(resp.text)"
   ]
  },
  {
   "cell_type": "markdown",
   "id": "b647a4a1",
   "metadata": {
    "id": "bo0tzf4nX6dA",
    "papermill": {
     "duration": 0.014708,
     "end_time": "2024-11-11T19:36:11.703334",
     "exception": false,
     "start_time": "2024-11-11T19:36:11.688626",
     "status": "completed"
    },
    "tags": []
   },
   "source": [
    "This process repeats until the `<finish>` action is reached. You can continue running this yourself if you like, or try the [Wikipedia example](https://github.com/google-gemini/cookbook/blob/main/examples/Search_Wikipedia_using_ReAct.ipynb) to see a fully automated ReAct system at work."
   ]
  },
  {
   "cell_type": "markdown",
   "id": "fc4ed0d5",
   "metadata": {
    "id": "jPiZ_eIIaVPt",
    "papermill": {
     "duration": 0.014918,
     "end_time": "2024-11-11T19:36:11.733266",
     "exception": false,
     "start_time": "2024-11-11T19:36:11.718348",
     "status": "completed"
    },
    "tags": []
   },
   "source": [
    "## Code prompting"
   ]
  },
  {
   "cell_type": "markdown",
   "id": "fc9d010e",
   "metadata": {
    "id": "ZinKamwXeR6C",
    "papermill": {
     "duration": 0.015327,
     "end_time": "2024-11-11T19:36:11.763436",
     "exception": false,
     "start_time": "2024-11-11T19:36:11.748109",
     "status": "completed"
    },
    "tags": []
   },
   "source": [
    "### Generating code\n",
    "\n",
    "The Gemini family of models can be used to generate code, configuration and scripts. Generating code can be helpful when learning to code, learning a new language or for rapidly generating a first draft.\n",
    "\n",
    "It's important to be aware that since LLMs can't reason, and can repeat training data, it's essential to read and test your code first, and comply with any relevant licenses.\n",
    "\n",
    "<table align=left>\n",
    "  <td>\n",
    "    <a target=\"_blank\" href=\"https://aistudio.google.com/prompts/1YX71JGtzDjXQkgdes8bP6i3oH5lCRKxv\"><img src=\"https://ai.google.dev/site-assets/images/marketing/home/icon-ais.png\" style=\"height: 24px\" height=24/> Open in AI Studio</a>\n",
    "  </td>\n",
    "</table>"
   ]
  },
  {
   "cell_type": "code",
   "execution_count": 26,
   "id": "849d7234",
   "metadata": {
    "execution": {
     "iopub.execute_input": "2024-11-11T19:36:11.796782Z",
     "iopub.status.busy": "2024-11-11T19:36:11.796022Z",
     "iopub.status.idle": "2024-11-11T19:36:12.238119Z",
     "shell.execute_reply": "2024-11-11T19:36:12.236983Z"
    },
    "id": "fOQP9pqmeUO1",
    "papermill": {
     "duration": 0.462143,
     "end_time": "2024-11-11T19:36:12.240566",
     "exception": false,
     "start_time": "2024-11-11T19:36:11.778423",
     "status": "completed"
    },
    "tags": []
   },
   "outputs": [
    {
     "data": {
      "text/markdown": [
       "```python\n",
       "def factorial(n):\n",
       "  if n == 0:\n",
       "    return 1\n",
       "  else:\n",
       "    return n * factorial(n-1)\n",
       "```"
      ],
      "text/plain": [
       "<IPython.core.display.Markdown object>"
      ]
     },
     "execution_count": 26,
     "metadata": {},
     "output_type": "execute_result"
    }
   ],
   "source": [
    "model = genai.GenerativeModel(\n",
    "    'gemini-1.5-flash-latest',\n",
    "    generation_config=genai.GenerationConfig(\n",
    "        temperature=1,\n",
    "        top_p=1,\n",
    "        max_output_tokens=1024,\n",
    "    ))\n",
    "\n",
    "# Gemini 1.5 models are very chatty, so it helps to specify they stick to the code.\n",
    "code_prompt = \"\"\"\n",
    "Write a Python function to calculate the factorial of a number. No explanation, provide only the code.\n",
    "\"\"\"\n",
    "\n",
    "response = model.generate_content(code_prompt)\n",
    "Markdown(response.text)"
   ]
  },
  {
   "cell_type": "markdown",
   "id": "27ec3ce0",
   "metadata": {
    "id": "wlBMWSFhgVRQ",
    "papermill": {
     "duration": 0.015619,
     "end_time": "2024-11-11T19:36:12.271686",
     "exception": false,
     "start_time": "2024-11-11T19:36:12.256067",
     "status": "completed"
    },
    "tags": []
   },
   "source": [
    "### Code execution\n",
    "\n",
    "The Gemini API can automatically run generated code too, and will return the output.\n",
    "\n",
    "<table align=left>\n",
    "  <td>\n",
    "    <a target=\"_blank\" href=\"https://aistudio.google.com/prompts/11veFr_VYEwBWcLkhNLr-maCG0G8sS_7Z\"><img src=\"https://ai.google.dev/site-assets/images/marketing/home/icon-ais.png\" style=\"height: 24px\" height=24/> Open in AI Studio</a>\n",
    "  </td>\n",
    "</table>"
   ]
  },
  {
   "cell_type": "code",
   "execution_count": 27,
   "id": "9f88d762",
   "metadata": {
    "execution": {
     "iopub.execute_input": "2024-11-11T19:36:12.304010Z",
     "iopub.status.busy": "2024-11-11T19:36:12.303565Z",
     "iopub.status.idle": "2024-11-11T19:36:15.064795Z",
     "shell.execute_reply": "2024-11-11T19:36:15.063536Z"
    },
    "id": "jT3OfWYfhjRL",
    "papermill": {
     "duration": 2.780012,
     "end_time": "2024-11-11T19:36:15.067177",
     "exception": false,
     "start_time": "2024-11-11T19:36:12.287165",
     "status": "completed"
    },
    "tags": []
   },
   "outputs": [
    {
     "data": {
      "text/markdown": [
       "I will calculate the sum of the first 14 odd prime numbers.\n",
       "\n",
       "First, I need to identify the first 14 odd prime numbers.  \n",
       "\n",
       "* A prime number is a whole number greater than 1 that has only two divisors: 1 and itself.  \n",
       "* An odd number is any integer that is not divisible by 2.\n",
       "\n",
       "Let's use Python to list the first 14 odd primes:\n",
       "\n",
       "\n",
       "``` python\n",
       "def is_prime(n):\n",
       "    \"\"\"Checks if a number is prime.\"\"\"\n",
       "    if n <= 1:\n",
       "        return False\n",
       "    for i in range(2, int(n**0.5) + 1):\n",
       "        if n % i == 0:\n",
       "            return False\n",
       "    return True\n",
       "\n",
       "primes = []\n",
       "i = 3\n",
       "while len(primes) < 14:\n",
       "    if is_prime(i):\n",
       "        primes.append(i)\n",
       "    i += 2\n",
       "\n",
       "print(f'The first 14 odd primes are: {primes}')\n",
       "\n",
       "```\n",
       "```\n",
       "The first 14 odd primes are: [3, 5, 7, 11, 13, 17, 19, 23, 29, 31, 37, 41, 43, 47]\n",
       "\n",
       "```\n",
       "Now, let's calculate the sum:\n",
       "\n",
       "\n",
       "``` python\n",
       "primes = [3, 5, 7, 11, 13, 17, 19, 23, 29, 31, 37, 41, 43, 47]\n",
       "sum_of_primes = sum(primes)\n",
       "print(f'The sum of the first 14 odd primes is: {sum_of_primes}')\n",
       "\n",
       "```\n",
       "```\n",
       "The sum of the first 14 odd primes is: 326\n",
       "\n",
       "```\n",
       "Therefore, the sum of the first 14 odd prime numbers is **326**. \n"
      ],
      "text/plain": [
       "<IPython.core.display.Markdown object>"
      ]
     },
     "execution_count": 27,
     "metadata": {},
     "output_type": "execute_result"
    }
   ],
   "source": [
    "model = genai.GenerativeModel(\n",
    "    'gemini-1.5-flash-latest',\n",
    "    tools='code_execution')\n",
    "\n",
    "code_exec_prompt = \"\"\"\n",
    "Calculate the sum of the first 14 prime numbers. Only consider the odd primes, and make sure you get them all.\n",
    "\"\"\"\n",
    "\n",
    "response = model.generate_content(code_exec_prompt)\n",
    "Markdown(response.text)"
   ]
  },
  {
   "cell_type": "markdown",
   "id": "16d25e52",
   "metadata": {
    "id": "ZspT1GSkjG6d",
    "papermill": {
     "duration": 0.015396,
     "end_time": "2024-11-11T19:36:15.098635",
     "exception": false,
     "start_time": "2024-11-11T19:36:15.083239",
     "status": "completed"
    },
    "tags": []
   },
   "source": [
    "While this looks like a single-part response, you can inspect the response to see the each of the steps: initial text, code generation, execution results, and final text summary."
   ]
  },
  {
   "cell_type": "code",
   "execution_count": 28,
   "id": "b67ba13c",
   "metadata": {
    "execution": {
     "iopub.execute_input": "2024-11-11T19:36:15.131741Z",
     "iopub.status.busy": "2024-11-11T19:36:15.131263Z",
     "iopub.status.idle": "2024-11-11T19:36:15.137582Z",
     "shell.execute_reply": "2024-11-11T19:36:15.136546Z"
    },
    "id": "j4gQVzcRjRX-",
    "papermill": {
     "duration": 0.025285,
     "end_time": "2024-11-11T19:36:15.139778",
     "exception": false,
     "start_time": "2024-11-11T19:36:15.114493",
     "status": "completed"
    },
    "tags": []
   },
   "outputs": [
    {
     "name": "stdout",
     "output_type": "stream",
     "text": [
      "text: \"I will calculate the sum of the first 14 odd prime numbers.\\n\\nFirst, I need to identify the first 14 odd prime numbers.  \\n\\n* A prime number is a whole number greater than 1 that has only two divisors: 1 and itself.  \\n* An odd number is any integer that is not divisible by 2.\\n\\nLet\\'s use Python to list the first 14 odd primes:\\n\\n\"\n",
      "\n",
      "-----\n",
      "executable_code {\n",
      "  language: PYTHON\n",
      "  code: \"\\ndef is_prime(n):\\n    \\\"\\\"\\\"Checks if a number is prime.\\\"\\\"\\\"\\n    if n <= 1:\\n        return False\\n    for i in range(2, int(n**0.5) + 1):\\n        if n % i == 0:\\n            return False\\n    return True\\n\\nprimes = []\\ni = 3\\nwhile len(primes) < 14:\\n    if is_prime(i):\\n        primes.append(i)\\n    i += 2\\n\\nprint(f\\'The first 14 odd primes are: {primes}\\')\\n\"\n",
      "}\n",
      "\n",
      "-----\n",
      "code_execution_result {\n",
      "  outcome: OUTCOME_OK\n",
      "  output: \"The first 14 odd primes are: [3, 5, 7, 11, 13, 17, 19, 23, 29, 31, 37, 41, 43, 47]\\n\"\n",
      "}\n",
      "\n",
      "-----\n",
      "text: \"Now, let\\'s calculate the sum:\\n\\n\"\n",
      "\n",
      "-----\n",
      "executable_code {\n",
      "  language: PYTHON\n",
      "  code: \"\\nprimes = [3, 5, 7, 11, 13, 17, 19, 23, 29, 31, 37, 41, 43, 47]\\nsum_of_primes = sum(primes)\\nprint(f\\'The sum of the first 14 odd primes is: {sum_of_primes}\\')\\n\"\n",
      "}\n",
      "\n",
      "-----\n",
      "code_execution_result {\n",
      "  outcome: OUTCOME_OK\n",
      "  output: \"The sum of the first 14 odd primes is: 326\\n\"\n",
      "}\n",
      "\n",
      "-----\n",
      "text: \"Therefore, the sum of the first 14 odd prime numbers is **326**. \\n\"\n",
      "\n",
      "-----\n"
     ]
    }
   ],
   "source": [
    "for part in response.candidates[0].content.parts:\n",
    "  print(part)\n",
    "  print(\"-----\")"
   ]
  },
  {
   "cell_type": "markdown",
   "id": "ac31b6cd",
   "metadata": {
    "id": "1gUX8QzCj4d5",
    "papermill": {
     "duration": 0.015263,
     "end_time": "2024-11-11T19:36:15.170652",
     "exception": false,
     "start_time": "2024-11-11T19:36:15.155389",
     "status": "completed"
    },
    "tags": []
   },
   "source": [
    "### Explaining code\n",
    "\n",
    "The Gemini family of models can explain code to you too.\n",
    "\n",
    "<table align=left>\n",
    "  <td>\n",
    "    <a target=\"_blank\" href=\"https://aistudio.google.com/prompts/1N7LGzWzCYieyOf_7bAG4plrmkpDNmUyb\"><img src=\"https://ai.google.dev/site-assets/images/marketing/home/icon-ais.png\" style=\"height: 24px\" height=24/> Open in AI Studio</a>\n",
    "  </td>\n",
    "</table>"
   ]
  },
  {
   "cell_type": "code",
   "execution_count": 29,
   "id": "6fdac3de",
   "metadata": {
    "execution": {
     "iopub.execute_input": "2024-11-11T19:36:15.204372Z",
     "iopub.status.busy": "2024-11-11T19:36:15.203955Z",
     "iopub.status.idle": "2024-11-11T19:36:19.104512Z",
     "shell.execute_reply": "2024-11-11T19:36:19.103321Z"
    },
    "id": "7_jPMMoxkIEb",
    "papermill": {
     "duration": 3.919742,
     "end_time": "2024-11-11T19:36:19.106934",
     "exception": false,
     "start_time": "2024-11-11T19:36:15.187192",
     "status": "completed"
    },
    "tags": []
   },
   "outputs": [
    {
     "data": {
      "text/markdown": [
       "This file,  `git-prompt.sh`, is a Bash script designed to enhance your command-line prompt by incorporating information about your current Git repository.\n",
       "\n",
       "Here's a breakdown of what it does and why you'd use it:\n",
       "\n",
       "**What it does:**\n",
       "\n",
       "* **Git Repository Status:** It retrieves the status of the current Git repository (branch, changes, upstream status, etc.) and displays this information within your prompt.\n",
       "* **Customizable Prompt:** It allows you to define various aspects of the Git information displayed, including:\n",
       "    * **Themes:**  Change the color scheme of your prompt based on pre-defined themes (Default, Custom) or even create your own theme.\n",
       "    * **Symbols:** Customize the symbols used for different status indicators (e.g., ahead, behind, untracked files).\n",
       "    * **Virtual Environment:** Display your active Python virtual environment or Node.js virtual environment (if enabled).\n",
       "    * **Username and Repo:** Optionally display the username and repository name.\n",
       "* **Configuration:** The script provides settings to control how the Git information is presented, allowing you to customize:\n",
       "    * **Display Behavior:**  Control when the Git information is displayed (only in Git repositories, always, or never).\n",
       "    * **Status Retrieval:** Choose whether to fetch remote information and how often to check for updates.\n",
       "    * **Prompt Placement:** Specify the position of the Git status information relative to the regular prompt. \n",
       "\n",
       "**Why you'd use it:**\n",
       "\n",
       "* **Enhanced Awareness:**  The script provides you with a more informed command line experience. You can quickly glance at your prompt to see:\n",
       "    * The current Git branch you're working on.\n",
       "    * If you have uncommitted changes.\n",
       "    * If you're ahead or behind the remote branch.\n",
       "    * Whether your repository is clean or has conflicts.\n",
       "    * If you're in a virtual environment.\n",
       "* **Increased Productivity:**  Knowing your repository's status helps you:\n",
       "    * Quickly make decisions about your next action.\n",
       "    * Avoid accidental pushes or commits.\n",
       "    * Be more aware of the state of your project.\n",
       "\n",
       "**How to use it:**\n",
       "\n",
       "1. **Download:** Download the script.\n",
       "2. **Place:** Put it in a directory within your shell's PATH environment variable (e.g., ~/.local/bin).\n",
       "3. **Source:** Add the following line to your shell's configuration file (e.g., ~/.bashrc, ~/.zshrc):\n",
       "   ```bash\n",
       "   source ~/.local/bin/git-prompt.sh\n",
       "   ```\n",
       "4. **Customize:**  Modify the settings within the script to tailor the prompt to your preferences. \n",
       "\n",
       "This script can significantly enhance your command line experience, especially when working with Git repositories. It provides a clear visual representation of your project's status, making it easier to work efficiently and avoid common mistakes.\n"
      ],
      "text/plain": [
       "<IPython.core.display.Markdown object>"
      ]
     },
     "execution_count": 29,
     "metadata": {},
     "output_type": "execute_result"
    }
   ],
   "source": [
    "file_contents = !curl https://raw.githubusercontent.com/magicmonty/bash-git-prompt/refs/heads/master/gitprompt.sh\n",
    "\n",
    "explain_prompt = f\"\"\"\n",
    "Please explain what this file does at a very high level. What is it, and why would I use it?\n",
    "\n",
    "```\n",
    "{file_contents}\n",
    "```\n",
    "\"\"\"\n",
    "\n",
    "model = genai.GenerativeModel('gemini-1.5-flash-latest')\n",
    "\n",
    "response = model.generate_content(explain_prompt)\n",
    "Markdown(response.text)"
   ]
  },
  {
   "cell_type": "markdown",
   "id": "652b61dd",
   "metadata": {
    "id": "2a8266d97ce5",
    "papermill": {
     "duration": 0.015764,
     "end_time": "2024-11-11T19:36:19.138766",
     "exception": false,
     "start_time": "2024-11-11T19:36:19.123002",
     "status": "completed"
    },
    "tags": []
   },
   "source": [
    "## Learn more\n",
    "\n",
    "To learn more about prompting in depth:\n",
    "\n",
    "* Check out the whitepaper issued with today's content,\n",
    "* Try out the apps listed at the top of this notebook ([TextFX](https://textfx.withgoogle.com/), [SQL Talk](https://sql-talk-r5gdynozbq-uc.a.run.app/) and [NotebookLM](https://notebooklm.google/)),\n",
    "* Read the [Introduction to Prompting](https://ai.google.dev/gemini-api/docs/prompting-intro) from the Gemini API docs,\n",
    "* Explore the Gemini API's [prompt gallery](https://ai.google.dev/gemini-api/prompts) and try them out in AI Studio,\n",
    "* Check out the Gemini API cookbook for [inspirational examples](https://github.com/google-gemini/cookbook/blob/main/examples/) and [educational quickstarts](https://github.com/google-gemini/cookbook/blob/main/quickstarts/).\n",
    "\n",
    "And please share anything exciting you have tried in the Discord!"
   ]
  },
  {
   "cell_type": "code",
   "execution_count": null,
   "id": "d037717b",
   "metadata": {
    "papermill": {
     "duration": 0.0154,
     "end_time": "2024-11-11T19:36:19.170308",
     "exception": false,
     "start_time": "2024-11-11T19:36:19.154908",
     "status": "completed"
    },
    "tags": []
   },
   "outputs": [],
   "source": []
  }
 ],
 "metadata": {
  "colab": {
   "name": "day-1-prompting.ipynb",
   "toc_visible": true
  },
  "kaggle": {
   "accelerator": "none",
   "dataSources": [],
   "dockerImageVersionId": 30786,
   "isGpuEnabled": false,
   "isInternetEnabled": true,
   "language": "python",
   "sourceType": "notebook"
  },
  "kernelspec": {
   "display_name": "Python 3",
   "language": "python",
   "name": "python3"
  },
  "language_info": {
   "codemirror_mode": {
    "name": "ipython",
    "version": 3
   },
   "file_extension": ".py",
   "mimetype": "text/x-python",
   "name": "python",
   "nbconvert_exporter": "python",
   "pygments_lexer": "ipython3",
   "version": "3.10.14"
  },
  "papermill": {
   "default_parameters": {},
   "duration": 145.577122,
   "end_time": "2024-11-11T19:36:19.806912",
   "environment_variables": {},
   "exception": null,
   "input_path": "__notebook__.ipynb",
   "output_path": "__notebook__.ipynb",
   "parameters": {},
   "start_time": "2024-11-11T19:33:54.229790",
   "version": "2.6.0"
  }
 },
 "nbformat": 4,
 "nbformat_minor": 5
}
